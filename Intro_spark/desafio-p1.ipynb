{
 "cells": [
  {
   "cell_type": "markdown",
   "id": "7d1fcb84-796b-4320-ae8f-e31589f377d6",
   "metadata": {},
   "source": [
    "# IGTI - Cientista de Dados - Módulo 2\n",
    "## Desafio - Parte 1"
   ]
  },
  {
   "cell_type": "code",
   "execution_count": 1,
   "id": "cb168c03",
   "metadata": {},
   "outputs": [
    {
     "data": {
      "text/plain": [
       "'C:\\\\Spark\\\\spark-3.1.2-bin-hadoop2.7'"
      ]
     },
     "execution_count": 1,
     "metadata": {},
     "output_type": "execute_result"
    }
   ],
   "source": [
    "import findspark\n",
    "findspark.init()\n",
    "findspark.find()"
   ]
  },
  {
   "cell_type": "code",
   "execution_count": 2,
   "id": "c4756b26",
   "metadata": {},
   "outputs": [],
   "source": [
    "import pyspark\n",
    "from pyspark import SparkContext\n",
    "sc = SparkContext()"
   ]
  },
  {
   "cell_type": "code",
   "execution_count": 3,
   "id": "cbd5b194",
   "metadata": {},
   "outputs": [],
   "source": [
    "from pyspark.sql import SparkSession"
   ]
  },
  {
   "cell_type": "code",
   "execution_count": 4,
   "id": "fa64e59a",
   "metadata": {},
   "outputs": [],
   "source": [
    "#from pyspark.sql.functions import rand, randn\n",
    "from pyspark.sql import SQLContext"
   ]
  },
  {
   "cell_type": "code",
   "execution_count": null,
   "id": "6afd0cd2",
   "metadata": {},
   "outputs": [],
   "source": []
  },
  {
   "cell_type": "code",
   "execution_count": 1,
   "id": "ebb6d8ab-aa13-4d34-8c37-b7821146240f",
   "metadata": {},
   "outputs": [],
   "source": [
    "from pyspark.sql import SparkSession\n",
    "from pyspark.sql.functions import *"
   ]
  },
  {
   "cell_type": "code",
   "execution_count": 5,
   "id": "1fb99670-59e1-4faa-a2c5-37a4c10d7057",
   "metadata": {},
   "outputs": [],
   "source": [
    "spark = SparkSession.builder.appName(\"Desafio\").getOrCreate()"
   ]
  },
  {
   "cell_type": "code",
   "execution_count": 7,
   "id": "a1f61282-bd0a-4b29-a62b-1670a395e563",
   "metadata": {},
   "outputs": [],
   "source": [
    "# importa com inferencia dos tipos das colunas\n",
    "df = spark.read.options(header='True', inferSchema='True').csv(\"stroke_data.csv\")"
   ]
  },
  {
   "cell_type": "markdown",
   "id": "9ae04968-48f1-4cb5-b596-49a295e5360c",
   "metadata": {},
   "source": [
    "### Perguntas"
   ]
  },
  {
   "cell_type": "markdown",
   "id": "ff1d716b-53c4-4940-a0a1-f3c7dae4d8c7",
   "metadata": {},
   "source": [
    "**1) Quantos registros existem no arquivo?**"
   ]
  },
  {
   "cell_type": "code",
   "execution_count": 8,
   "id": "5d780ddd-b9b7-4cad-be81-4e54dd3574bb",
   "metadata": {},
   "outputs": [
    {
     "data": {
      "text/plain": [
       "67135"
      ]
     },
     "execution_count": 8,
     "metadata": {},
     "output_type": "execute_result"
    }
   ],
   "source": [
    "df.count()"
   ]
  },
  {
   "cell_type": "markdown",
   "id": "a11f05ab-1be3-4e38-bd93-412efd10ed01",
   "metadata": {},
   "source": [
    "**2) Quantas colunas existem no arquivo? Quantas são numéricas? Ao ler o arquivo com spark.read.csv, habilite inferSchema=True. Use a função printSchema() da API de Dataframes.**"
   ]
  },
  {
   "cell_type": "code",
   "execution_count": 9,
   "id": "49a57161-cd0e-48ad-8ef3-01ed9d200036",
   "metadata": {},
   "outputs": [
    {
     "name": "stdout",
     "output_type": "stream",
     "text": [
      "root\n",
      " |-- 0: integer (nullable = true)\n",
      " |-- gender: string (nullable = true)\n",
      " |-- age: double (nullable = true)\n",
      " |-- hypertension: integer (nullable = true)\n",
      " |-- heart_disease: integer (nullable = true)\n",
      " |-- ever_married: string (nullable = true)\n",
      " |-- work_type: string (nullable = true)\n",
      " |-- Residence_type: string (nullable = true)\n",
      " |-- avg_glucose_level: double (nullable = true)\n",
      " |-- bmi: double (nullable = true)\n",
      " |-- smoking_status: string (nullable = true)\n",
      " |-- stroke: integer (nullable = true)\n",
      "\n"
     ]
    }
   ],
   "source": [
    "df.printSchema()\n",
    "# Resposta: 12 e 7"
   ]
  },
  {
   "cell_type": "markdown",
   "id": "3d04d583-acf4-4c16-abf4-35ff6d0ddbac",
   "metadata": {},
   "source": [
    "**3) (pergunta questionada no fórum de dúvidas e alterada pelo prof. em mensagem no fórum de avisos)**  \n",
    "\n",
    "**Original:**  \n",
    "> 3) No conjunto de dados, quantos pacientes estavam doentes?\n",
    "> * 200 e 200\n",
    "> * 165 e 138\n",
    "> * 155 e 191\n",
    "> * 136 e 166\n",
    "\n",
    "**Nova:**\n",
    "> 3) No conjunto de dados, quantos pacientes sofreram e não sofreram derrame (stroke), respectivamente?\n",
    "> * 40287 e 26848\n",
    "> * 40200 e 26841\n",
    "> * 26848 e 40287\n",
    "> * 26841 e 40287"
   ]
  },
  {
   "cell_type": "code",
   "execution_count": 10,
   "id": "86e6fcd5",
   "metadata": {},
   "outputs": [
    {
     "name": "stdout",
     "output_type": "stream",
     "text": [
      "+---+------+----+------------+-------------+------------+-------------+--------------+-----------------+-----+---------------+------+\n",
      "|  0|gender| age|hypertension|heart_disease|ever_married|    work_type|Residence_type|avg_glucose_level|  bmi| smoking_status|stroke|\n",
      "+---+------+----+------------+-------------+------------+-------------+--------------+-----------------+-----+---------------+------+\n",
      "|  1|Female|18.0|           0|            0|          No|      Private|         Urban|            94.19|12.12|         smokes|     1|\n",
      "|  2|  Male|58.0|           1|            0|         Yes|      Private|         Rural|           154.24| 33.7|   never_smoked|     0|\n",
      "|  3|Female|36.0|           0|            0|         Yes|     Govt_job|         Urban|            72.63| 24.7|         smokes|     0|\n",
      "|  4|Female|62.0|           0|            0|         Yes|Self-employed|         Rural|            85.52| 31.2|formerly smoked|     0|\n",
      "|  5|Female|82.0|           0|            0|         Yes|      Private|         Rural|            59.32| 33.2|         smokes|     1|\n",
      "|  6|Female|82.0|           0|            0|          No|     Govt_job|         Urban|            234.5| 24.0|formerly smoked|     0|\n",
      "|  7|Female|33.0|           0|            0|         Yes|Self-employed|         Urban|           193.42| 29.9|         smokes|     0|\n",
      "|  8|Female|37.0|           0|            0|         Yes|      Private|         Rural|            156.7| 36.9|         smokes|     1|\n",
      "|  9|Female|41.0|           0|            0|         Yes|     Govt_job|         Rural|            64.06| 33.8|         smokes|     1|\n",
      "| 10|Female|70.0|           0|            0|         Yes|Self-employed|         Rural|            76.34| 24.4|formerly smoked|     1|\n",
      "| 11|Female|25.0|           0|            0|          No|      Private|         Urban|            91.15| 28.7|         smokes|     1|\n",
      "| 12|Female|43.0|           1|            0|          No|Self-employed|         Rural|            60.12| 34.2|formerly smoked|     0|\n",
      "| 13|  Male|72.0|           0|            1|         Yes|      Private|         Rural|           235.22| 40.3|formerly smoked|     1|\n",
      "| 14|Female|20.0|           0|            0|          No|      Private|         Rural|           106.47| 33.7|         smokes|     1|\n",
      "| 15|  Male|20.0|           0|            0|          No|      Private|         Urban|           104.78| 20.3|         smokes|     1|\n",
      "| 16|  Male|41.0|           0|            0|         Yes|Self-employed|         Urban|            159.3| 34.6|         smokes|     1|\n",
      "| 17|Female|23.0|           0|            0|          No|      Private|         Urban|           116.95| 23.8|         smokes|     1|\n",
      "| 18|  Male|22.0|           0|            0|          No|Self-employed|         Rural|            72.05| 31.9|         smokes|     1|\n",
      "| 19|  Male|69.0|           0|            0|         Yes|      Private|         Rural|            64.06| 35.1|formerly smoked|     0|\n",
      "| 20|Female|44.0|           0|            0|         Yes|Self-employed|         Rural|           135.03| 36.1|         smokes|     1|\n",
      "+---+------+----+------------+-------------+------------+-------------+--------------+-----------------+-----+---------------+------+\n",
      "only showing top 20 rows\n",
      "\n"
     ]
    }
   ],
   "source": [
    "df.show()"
   ]
  },
  {
   "cell_type": "code",
   "execution_count": 11,
   "id": "529e77bd-961b-4539-911e-39923fcbd197",
   "metadata": {},
   "outputs": [
    {
     "name": "stdout",
     "output_type": "stream",
     "text": [
      "+------+-----+\n",
      "|stroke|count|\n",
      "+------+-----+\n",
      "|     1|40287|\n",
      "|     0|26848|\n",
      "+------+-----+\n",
      "\n"
     ]
    }
   ],
   "source": [
    "df.groupBy(df.stroke).count().show()\n",
    "# Resposta: 40287 e 26848"
   ]
  },
  {
   "cell_type": "markdown",
   "id": "bddb59c1-632a-49b4-bdb2-92c2d15caa71",
   "metadata": {},
   "source": [
    "**4) A partir do dataframe, crie uma tabela temporária usando df.createOrReplaceTempView('table') e, a seguir, use spark.sql para escrever uma consulta SQL que obtenha quantos pacientes tiveram derrame por tipo de trabalho (work_type). Quantos pacientes que sofreram derrame trabalhavam, respectivamente, no setor privado, de forma independente, no governo e quantas são crianças?**"
   ]
  },
  {
   "cell_type": "code",
   "execution_count": 12,
   "id": "86f96568-137f-4a66-8a80-28724b14fd20",
   "metadata": {},
   "outputs": [
    {
     "name": "stdout",
     "output_type": "stream",
     "text": [
      "+-------------+-----+\n",
      "|    work_type|  qtd|\n",
      "+-------------+-----+\n",
      "|      Private|23711|\n",
      "|Self-employed|10807|\n",
      "|     Govt_job| 5164|\n",
      "|     children|  520|\n",
      "| Never_worked|   85|\n",
      "+-------------+-----+\n",
      "\n"
     ]
    }
   ],
   "source": [
    "tb = df.createOrReplaceTempView('table')\n",
    "\n",
    "spark.sql('select work_type, count(*) qtd from table where stroke = 1 group by work_type order by qtd desc').show()\n",
    "\n",
    "# Resposta: 23711, 10807, 5164 e 520"
   ]
  },
  {
   "cell_type": "markdown",
   "id": "0a1d9882-6993-493e-82a5-3cd1ed79c100",
   "metadata": {},
   "source": [
    "**5) Escreva uma consulta com spark.sql para determinar a proporção, por gênero, de participantes do estudo. A maioria dos participantes é:**"
   ]
  },
  {
   "cell_type": "code",
   "execution_count": 8,
   "id": "88a08e57-c499-46b8-9521-322a407754e2",
   "metadata": {},
   "outputs": [
    {
     "name": "stdout",
     "output_type": "stream",
     "text": [
      "+------+-----+\n",
      "|gender|  qtd|\n",
      "+------+-----+\n",
      "|Female|39530|\n",
      "|  Male|27594|\n",
      "| Other|   11|\n",
      "+------+-----+\n",
      "\n"
     ]
    }
   ],
   "source": [
    "spark.sql('select gender, count(*) qtd from table group by gender order by count(*) desc').show()\n",
    "\n",
    "# Resposta: Feminina"
   ]
  },
  {
   "cell_type": "markdown",
   "id": "29f4e04c-bfd4-4160-9f60-f6785738eed7",
   "metadata": {},
   "source": [
    "**6) Escreva uma consulta com spark.sql para determinar quem tem mais probabilidade de sofrer derrame: hipertensos ou não-hipertensos. Você pode escrever uma consulta para cada grupo. A partir das probabilidades que você obteve, você conclui que:**"
   ]
  },
  {
   "cell_type": "code",
   "execution_count": 9,
   "id": "61fc859b-c51a-46ef-8a5d-9e325a2ac6df",
   "metadata": {},
   "outputs": [
    {
     "name": "stdout",
     "output_type": "stream",
     "text": [
      "With hypertension:\n",
      "+------+----+------------------+\n",
      "|stroke| qde|              perc|\n",
      "+------+----+------------------+\n",
      "|     0|2200|19.969138603975676|\n",
      "|     1|8817| 80.03086139602432|\n",
      "+------+----+------------------+\n",
      "\n",
      "Without hypertension:\n",
      "+------+-----+-----------------+\n",
      "|stroke|  qde|             perc|\n",
      "+------+-----+-----------------+\n",
      "|     0|24648|43.92173634128087|\n",
      "|     1|31470|56.07826365871913|\n",
      "+------+-----+-----------------+\n",
      "\n"
     ]
    }
   ],
   "source": [
    "print('With hypertension:')\n",
    "spark.sql('select stroke, count(*) qde, (count(*) / (select count(*) from table where hypertension = 1) * 100) perc from table where hypertension = 1 group by stroke order by stroke').show()\n",
    "\n",
    "print('Without hypertension:')\n",
    "spark.sql('select stroke, count(*) qde, (count(*) / (select count(*) from table where hypertension = 0) * 100) perc from table where hypertension = 0 group by stroke order by stroke').show()\n",
    "\n",
    "# A distribuição do percentual entre quem não tem hipertensão é mais equilibrado: 44% e 56%.\n",
    "# Já entre os que tem hipertensão, a maioria dos que sofreram derrame tinham hipertensão (80%).\n",
    "\n",
    "# Resposta: A hipertensão, neste conjunto de dados, aumenta a probabilidade de derrame."
   ]
  },
  {
   "cell_type": "markdown",
   "id": "cc1be81c-a7e7-428b-b303-d6d296658a53",
   "metadata": {},
   "source": [
    "**7) Escreva uma consulta com spark.sql que determine o número de pessoas que sofreram derrame por idade. Com qual idade o maior número de pessoas do conjunto de dados sofreu derrame?**"
   ]
  },
  {
   "cell_type": "code",
   "execution_count": 10,
   "id": "7d96ca16-5321-44f4-b93a-b7ae80e06344",
   "metadata": {},
   "outputs": [
    {
     "name": "stdout",
     "output_type": "stream",
     "text": [
      "+----+----+\n",
      "| age| qtd|\n",
      "+----+----+\n",
      "|79.0|3258|\n",
      "+----+----+\n",
      "only showing top 1 row\n",
      "\n"
     ]
    }
   ],
   "source": [
    "spark.sql('select age, count(*) qtd from table group by age order by qtd desc').show(1)\n",
    "\n",
    "# Resposta: 79"
   ]
  },
  {
   "cell_type": "markdown",
   "id": "feb1075d-e92d-4d05-89b0-9e8fad529b4c",
   "metadata": {},
   "source": [
    "**8) Usando a API de dataframes, determine quantas pessoas sofreram derrames após os 50 anos.**"
   ]
  },
  {
   "cell_type": "code",
   "execution_count": 11,
   "id": "af1be278-1ee0-4f78-a2b7-a573ade84cb9",
   "metadata": {},
   "outputs": [
    {
     "data": {
      "text/plain": [
       "28938"
      ]
     },
     "execution_count": 11,
     "metadata": {},
     "output_type": "execute_result"
    }
   ],
   "source": [
    "#df.filter(df.age > 50).filter(df.stroke == 1).count()\n",
    "\n",
    "df.where('age > 50 and stroke = 1').count()\n",
    "\n",
    "# Resposta: 28938"
   ]
  },
  {
   "cell_type": "markdown",
   "id": "8c61ed6b-383c-4adc-90c1-ba5bb4c8f08b",
   "metadata": {},
   "source": [
    "**9) Usando spark.sql, determine qual o nível médio de glicose para pessoas que, respectivamente, sofreram e não sofreram derrame.**"
   ]
  },
  {
   "cell_type": "code",
   "execution_count": 12,
   "id": "1e63424c-27ae-4a98-99ba-e645ccb3ffd7",
   "metadata": {},
   "outputs": [
    {
     "name": "stdout",
     "output_type": "stream",
     "text": [
      "+------+----------------------+\n",
      "|stroke|avg(avg_glucose_level)|\n",
      "+------+----------------------+\n",
      "|     1|    119.95307046938272|\n",
      "|     0|    103.60273130214506|\n",
      "+------+----------------------+\n",
      "\n"
     ]
    }
   ],
   "source": [
    "spark.sql('select stroke, avg(avg_glucose_level) from table group by stroke').show()\n",
    "\n",
    "# Resposta: 119 e 103"
   ]
  },
  {
   "cell_type": "markdown",
   "id": "d5548931-09bc-4754-830b-b8c627dcd0ef",
   "metadata": {},
   "source": [
    "**10) Qual é o BMI (IMC = índice de massa corpórea) médio de quem sofreu e não sofreu derrame?**\n",
    "\n",
    "**NOTA:**  \n",
    "\n",
    "A pergunta foi questionada no fórum de dúvidas pois as alterantivas apresentam alta precisão, com duas casas decimais, e os resultados encontrados não são iguais aos das alternativas, podendo inclusive se encaixar em situação onde os dois valores encontrados se enocntrem mais próximos de alternativas distintas.  \n",
    "&nbsp;  \n",
    "O Prof. instruiu, por mensagem no fórum de avisos, para que diferenças nas casas decimais fossem ignoradas.  "
   ]
  },
  {
   "cell_type": "code",
   "execution_count": 13,
   "id": "d91d5cf1-a9eb-4a72-99c4-64daa0e4e8e8",
   "metadata": {},
   "outputs": [
    {
     "name": "stdout",
     "output_type": "stream",
     "text": [
      "+------+------------------+\n",
      "|stroke|          avg(bmi)|\n",
      "+------+------------------+\n",
      "|     1|29.942490629729495|\n",
      "|     0|27.989678933253657|\n",
      "+------+------------------+\n",
      "\n",
      "+------+------------------+\n",
      "|stroke|          avg(bmi)|\n",
      "+------+------------------+\n",
      "|     1|29.942490629729495|\n",
      "|     0|27.989678933253657|\n",
      "+------+------------------+\n",
      "\n"
     ]
    }
   ],
   "source": [
    "spark.sql('select stroke, avg(bmi) from table group by stroke').show()\n",
    "\n",
    "df.groupBy('stroke').avg('bmi').show()\n",
    "\n",
    "# Resposta: 29,81 e 27,86 (ignorando as casas decimais, conforme instrução)"
   ]
  }
 ],
 "metadata": {
  "kernelspec": {
   "display_name": "Python 3",
   "language": "python",
   "name": "python3"
  },
  "language_info": {
   "codemirror_mode": {
    "name": "ipython",
    "version": 3
   },
   "file_extension": ".py",
   "mimetype": "text/x-python",
   "name": "python",
   "nbconvert_exporter": "python",
   "pygments_lexer": "ipython3",
   "version": "3.8.8"
  }
 },
 "nbformat": 4,
 "nbformat_minor": 5
}
