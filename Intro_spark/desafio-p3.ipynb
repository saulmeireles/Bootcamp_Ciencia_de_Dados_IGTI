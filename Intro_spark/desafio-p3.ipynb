{
 "cells": [
  {
   "cell_type": "markdown",
   "id": "68bbd5b2-cd33-41e0-8a87-1b875838416f",
   "metadata": {},
   "source": [
    "# IGTI - Cientista de Dados - Módulo 2\n",
    "## Desafio - Parte 3"
   ]
  },
  {
   "cell_type": "code",
   "execution_count": 1,
   "id": "b8d19e46",
   "metadata": {},
   "outputs": [
    {
     "data": {
      "text/plain": [
       "'C:\\\\Spark\\\\spark-3.1.2-bin-hadoop2.7'"
      ]
     },
     "execution_count": 1,
     "metadata": {},
     "output_type": "execute_result"
    }
   ],
   "source": [
    "import findspark\n",
    "findspark.init()\n",
    "findspark.find()"
   ]
  },
  {
   "cell_type": "code",
   "execution_count": 2,
   "id": "589f2b58",
   "metadata": {},
   "outputs": [],
   "source": [
    "import pyspark\n",
    "from pyspark import SparkContext\n",
    "sc = SparkContext()"
   ]
  },
  {
   "cell_type": "code",
   "execution_count": 3,
   "id": "3918dbdf-1f37-4b69-8d41-fc9038fdfc50",
   "metadata": {},
   "outputs": [],
   "source": [
    "from pyspark.sql import SparkSession\n",
    "from pyspark.ml.feature import VectorAssembler, StringIndexer, OneHotEncoder\n",
    "from pyspark.ml.classification import DecisionTreeClassifier\n",
    "from pyspark.ml import Pipeline\n",
    "from pyspark.ml.evaluation import MulticlassClassificationEvaluator\n",
    "from pyspark.sql.functions import desc\n",
    "import pandas as pd"
   ]
  },
  {
   "cell_type": "code",
   "execution_count": 4,
   "id": "cf7a9702-8638-4f54-87ae-36e837777a77",
   "metadata": {},
   "outputs": [],
   "source": [
    "spark = SparkSession.builder.getOrCreate()"
   ]
  },
  {
   "cell_type": "code",
   "execution_count": 7,
   "id": "8bca8a10-2bac-4f8a-94d1-c214a593796e",
   "metadata": {},
   "outputs": [
    {
     "name": "stdout",
     "output_type": "stream",
     "text": [
      "+---+------+----+------------+-------------+------------+---------+--------------+-----------------+-----+--------------+------+\n",
      "|  0|gender| age|hypertension|heart_disease|ever_married|work_type|Residence_type|avg_glucose_level|  bmi|smoking_status|stroke|\n",
      "+---+------+----+------------+-------------+------------+---------+--------------+-----------------+-----+--------------+------+\n",
      "|  1|Female|18.0|           0|            0|          No|  Private|         Urban|            94.19|12.12|        smokes|     1|\n",
      "|  2|  Male|58.0|           1|            0|         Yes|  Private|         Rural|           154.24| 33.7|  never_smoked|     0|\n",
      "|  3|Female|36.0|           0|            0|         Yes| Govt_job|         Urban|            72.63| 24.7|        smokes|     0|\n",
      "+---+------+----+------------+-------------+------------+---------+--------------+-----------------+-----+--------------+------+\n",
      "only showing top 3 rows\n",
      "\n"
     ]
    }
   ],
   "source": [
    "# Importar dataset\n",
    "df = spark.read.csv('stroke_data.csv', inferSchema=True, header=True)\n",
    "df.show(3)\n",
    "#df.head()"
   ]
  },
  {
   "cell_type": "code",
   "execution_count": 8,
   "id": "56d146bc-205f-4623-a11a-5b9fb28fde50",
   "metadata": {},
   "outputs": [],
   "source": [
    "# cria indexers e encoders para variaveis nao numericas\n",
    "\n",
    "gender_indexer = StringIndexer(inputCol='gender', outputCol='gender_index')\n",
    "smoking_status_indexer = StringIndexer(inputCol='smoking_status', outputCol='smoking_status_index')\n",
    "\n",
    "gender_encoder = OneHotEncoder(inputCol='gender_index', outputCol='gender_vector')\n",
    "smoking_status_encoder = OneHotEncoder(inputCol='smoking_status_index', outputCol='smoking_status_vector')"
   ]
  },
  {
   "cell_type": "code",
   "execution_count": 9,
   "id": "fbb56d55-fbf0-4aa0-8954-52ec284ca9b6",
   "metadata": {},
   "outputs": [],
   "source": [
    "# transformer para criacao de uma nova coluna 'features' que corresponde a \n",
    "# um vetor das variaveis selecionadas (atentar que para as variaveis nao numericas\n",
    "# sao utilizadas as novas varivaeis criadas com indexers e encoders)\n",
    "assembler = VectorAssembler(inputCols=['gender_vector', 'smoking_status_vector', 'bmi', 'age', 'hypertension', 'heart_disease', 'avg_glucose_level'], outputCol='features')"
   ]
  },
  {
   "cell_type": "code",
   "execution_count": 10,
   "id": "a331291b-682a-4b44-9e11-5814cba2baa2",
   "metadata": {},
   "outputs": [],
   "source": [
    "# cria um classifier informando qual a variavel alvo e \n",
    "# qual a variavel que corresponde ao vetor das outras variaveis selecionadas\n",
    "classifier = DecisionTreeClassifier(labelCol='stroke', featuresCol='features')"
   ]
  },
  {
   "cell_type": "code",
   "execution_count": 11,
   "id": "bb9a7372-06f7-4a58-bc02-0f4317aeee29",
   "metadata": {},
   "outputs": [],
   "source": [
    "# cria o pipeline\n",
    "pipeline = Pipeline(stages=[gender_indexer, smoking_status_indexer, gender_encoder, smoking_status_encoder, assembler, classifier])"
   ]
  },
  {
   "cell_type": "code",
   "execution_count": 12,
   "id": "72902a72-e119-4558-94c2-93e0e2ffd2f8",
   "metadata": {},
   "outputs": [],
   "source": [
    "# separa amostras para treinar o modelo e para realizar testes\n",
    "training_df, test_df = df.randomSplit([0.7, 0.3])"
   ]
  },
  {
   "cell_type": "code",
   "execution_count": 13,
   "id": "17d5382a-6e37-4b5d-8983-ea041e5fd7f2",
   "metadata": {},
   "outputs": [],
   "source": [
    "# treina o modelo a partir da amostra separada para treino\n",
    "model = pipeline.fit(training_df)"
   ]
  },
  {
   "cell_type": "code",
   "execution_count": 14,
   "id": "b7eba988-7948-43a3-8bd6-01a716823b15",
   "metadata": {},
   "outputs": [],
   "source": [
    "# exibe o algoritmo do modelo\n",
    "# print(model.stages[5].toDebugString)"
   ]
  },
  {
   "cell_type": "code",
   "execution_count": 15,
   "id": "fb1e5ec3-ce10-4ad1-a211-9908f29fa0d2",
   "metadata": {},
   "outputs": [],
   "source": [
    "# realiza predicoes para a amostra separada para testes utilizando o modelo criado\n",
    "predictions = model.transform(test_df)"
   ]
  },
  {
   "cell_type": "code",
   "execution_count": 16,
   "id": "efb70c53-707d-4bf2-8d26-9354702dfc66",
   "metadata": {},
   "outputs": [],
   "source": [
    "# cria um evaluator para avaliar o modelo utilizando a metrica 'accuracy'\n",
    "eval_acc = MulticlassClassificationEvaluator(labelCol='stroke', predictionCol='prediction', metricName='accuracy')"
   ]
  },
  {
   "cell_type": "code",
   "execution_count": 17,
   "id": "707baf93-9b88-4bb9-bf6c-754de46fe411",
   "metadata": {},
   "outputs": [
    {
     "data": {
      "text/plain": [
       "0.835845978943206"
      ]
     },
     "execution_count": 17,
     "metadata": {},
     "output_type": "execute_result"
    }
   ],
   "source": [
    "# calcula a acuracia das predicoes realizadas\n",
    "accuracy = eval_acc.evaluate(predictions)\n",
    "accuracy"
   ]
  },
  {
   "cell_type": "code",
   "execution_count": 18,
   "id": "dd8eb2b5-efa9-4820-8945-29deeecb2ca5",
   "metadata": {},
   "outputs": [],
   "source": [
    "# cria um evaluator para avaliar o modelo utilizando a metrica 'weightedPrecision'\n",
    "eval_prec = MulticlassClassificationEvaluator(labelCol='stroke', predictionCol='prediction', metricName='weightedPrecision')"
   ]
  },
  {
   "cell_type": "code",
   "execution_count": 19,
   "id": "f658075c-3347-419c-bc35-91fd94a21143",
   "metadata": {},
   "outputs": [
    {
     "data": {
      "text/plain": [
       "0.8502742469040172"
      ]
     },
     "execution_count": 19,
     "metadata": {},
     "output_type": "execute_result"
    }
   ],
   "source": [
    "precision = eval_prec.evaluate(predictions)\n",
    "precision"
   ]
  },
  {
   "cell_type": "markdown",
   "id": "da59d3ba-d91e-461e-9649-f53e67944438",
   "metadata": {},
   "source": [
    "### Perguntas"
   ]
  },
  {
   "cell_type": "markdown",
   "id": "e6368099-ea69-44ee-bad2-1cde8307b9b3",
   "metadata": {},
   "source": [
    "**12) Ajuste um modelo de árvore de decisão a partir de pelo menos as seguintes variáveis: gênero, fuma / não fuma, BMI, idade, hipertensão, doença do coração, nível médio de glicose.   \n",
    "A acurácia deste modelo ficou entre:**"
   ]
  },
  {
   "cell_type": "code",
   "execution_count": 16,
   "id": "ffc9c47f-9fcb-4d35-85ef-ee7a634de452",
   "metadata": {},
   "outputs": [
    {
     "name": "stdout",
     "output_type": "stream",
     "text": [
      "Acuracia: 83%\n"
     ]
    }
   ],
   "source": [
    "print(f'Acuracia: {round(accuracy * 100)}%')"
   ]
  },
  {
   "cell_type": "markdown",
   "id": "4ea269fe-7566-4435-88a4-b3acc393f030",
   "metadata": {},
   "source": [
    "**13) Qual dessas variáveis é mais importante no modelo de árvore de decisão que você construiu na questão 12?**"
   ]
  },
  {
   "cell_type": "code",
   "execution_count": 17,
   "id": "d7100111-4a5a-46b2-b226-3521b6fc524e",
   "metadata": {},
   "outputs": [],
   "source": [
    "# Funcao que retorna um dataframe do pandas com os nomes das variaveis ordenados pelo score de importancia\n",
    "# Fonte: https://www.timlrx.com/blog/feature-selection-using-feature-importance-score-creating-a-pyspark-estimator\n",
    "\n",
    "def ExtractFeatureImp(featureImp, dataset, featuresCol):\n",
    "    list_extract = []\n",
    "    for i in dataset.schema[featuresCol].metadata[\"ml_attr\"][\"attrs\"]:\n",
    "        list_extract = list_extract + dataset.schema[featuresCol].metadata[\"ml_attr\"][\"attrs\"][i]\n",
    "    varlist = pd.DataFrame(list_extract)\n",
    "    varlist['score'] = varlist['idx'].apply(lambda x: featureImp[x])\n",
    "    return(varlist.sort_values('score', ascending = False))"
   ]
  },
  {
   "cell_type": "code",
   "execution_count": 18,
   "id": "59cdeea4-120e-4785-9efb-5fb31694ef7a",
   "metadata": {},
   "outputs": [
    {
     "data": {
      "text/plain": [
       "SparseVector(9, {2: 0.4975, 3: 0.3406, 4: 0.0011, 5: 0.1604, 8: 0.0004})"
      ]
     },
     "execution_count": 18,
     "metadata": {},
     "output_type": "execute_result"
    }
   ],
   "source": [
    "model.stages[-1].featureImportances"
   ]
  },
  {
   "cell_type": "code",
   "execution_count": 19,
   "id": "9470b7a2-b085-4fbd-8814-4c6e790e1a0a",
   "metadata": {},
   "outputs": [
    {
     "data": {
      "text/html": [
       "<div>\n",
       "<style scoped>\n",
       "    .dataframe tbody tr th:only-of-type {\n",
       "        vertical-align: middle;\n",
       "    }\n",
       "\n",
       "    .dataframe tbody tr th {\n",
       "        vertical-align: top;\n",
       "    }\n",
       "\n",
       "    .dataframe thead th {\n",
       "        text-align: right;\n",
       "    }\n",
       "</style>\n",
       "<table border=\"1\" class=\"dataframe\">\n",
       "  <thead>\n",
       "    <tr style=\"text-align: right;\">\n",
       "      <th></th>\n",
       "      <th>idx</th>\n",
       "      <th>name</th>\n",
       "      <th>score</th>\n",
       "    </tr>\n",
       "  </thead>\n",
       "  <tbody>\n",
       "    <tr>\n",
       "      <th>7</th>\n",
       "      <td>2</td>\n",
       "      <td>smoking_status_vector_smokes</td>\n",
       "      <td>0.497541</td>\n",
       "    </tr>\n",
       "    <tr>\n",
       "      <th>8</th>\n",
       "      <td>3</td>\n",
       "      <td>smoking_status_vector_formerly smoked</td>\n",
       "      <td>0.340617</td>\n",
       "    </tr>\n",
       "    <tr>\n",
       "      <th>1</th>\n",
       "      <td>5</td>\n",
       "      <td>age</td>\n",
       "      <td>0.160361</td>\n",
       "    </tr>\n",
       "    <tr>\n",
       "      <th>0</th>\n",
       "      <td>4</td>\n",
       "      <td>bmi</td>\n",
       "      <td>0.001078</td>\n",
       "    </tr>\n",
       "    <tr>\n",
       "      <th>4</th>\n",
       "      <td>8</td>\n",
       "      <td>avg_glucose_level</td>\n",
       "      <td>0.000403</td>\n",
       "    </tr>\n",
       "    <tr>\n",
       "      <th>2</th>\n",
       "      <td>6</td>\n",
       "      <td>hypertension</td>\n",
       "      <td>0.000000</td>\n",
       "    </tr>\n",
       "    <tr>\n",
       "      <th>3</th>\n",
       "      <td>7</td>\n",
       "      <td>heart_disease</td>\n",
       "      <td>0.000000</td>\n",
       "    </tr>\n",
       "    <tr>\n",
       "      <th>5</th>\n",
       "      <td>0</td>\n",
       "      <td>gender_vector_Female</td>\n",
       "      <td>0.000000</td>\n",
       "    </tr>\n",
       "    <tr>\n",
       "      <th>6</th>\n",
       "      <td>1</td>\n",
       "      <td>gender_vector_Male</td>\n",
       "      <td>0.000000</td>\n",
       "    </tr>\n",
       "  </tbody>\n",
       "</table>\n",
       "</div>"
      ],
      "text/plain": [
       "   idx                                   name     score\n",
       "7    2           smoking_status_vector_smokes  0.497541\n",
       "8    3  smoking_status_vector_formerly smoked  0.340617\n",
       "1    5                                    age  0.160361\n",
       "0    4                                    bmi  0.001078\n",
       "4    8                      avg_glucose_level  0.000403\n",
       "2    6                           hypertension  0.000000\n",
       "3    7                          heart_disease  0.000000\n",
       "5    0                   gender_vector_Female  0.000000\n",
       "6    1                     gender_vector_Male  0.000000"
      ]
     },
     "execution_count": 19,
     "metadata": {},
     "output_type": "execute_result"
    }
   ],
   "source": [
    "ExtractFeatureImp(model.stages[-1].featureImportances, predictions, \"features\").head(10)\n",
    "\n",
    "# R: smoking_status"
   ]
  },
  {
   "cell_type": "markdown",
   "id": "4d6bcc8b-9a9d-42f1-97eb-7f8682ce61ec",
   "metadata": {},
   "source": [
    "**14) Qual a profundidade da árvore de decisão da questão 12?**"
   ]
  },
  {
   "cell_type": "code",
   "execution_count": 20,
   "id": "601457fc-37a4-499c-9853-c36430997acc",
   "metadata": {},
   "outputs": [
    {
     "data": {
      "text/plain": [
       "5"
      ]
     },
     "execution_count": 20,
     "metadata": {},
     "output_type": "execute_result"
    }
   ],
   "source": [
    "model.stages[-1].depth"
   ]
  },
  {
   "cell_type": "markdown",
   "id": "1ef95172-b2d9-4ece-9e92-76799d62e2f0",
   "metadata": {},
   "source": [
    "**15) Quantos atributos foram considerados na árvore?**"
   ]
  },
  {
   "cell_type": "code",
   "execution_count": 21,
   "id": "a5b78a43-36fb-4a54-949e-3322b320d9f0",
   "metadata": {},
   "outputs": [
    {
     "data": {
      "text/plain": [
       "9"
      ]
     },
     "execution_count": 21,
     "metadata": {},
     "output_type": "execute_result"
    }
   ],
   "source": [
    "model.stages[-1].numFeatures"
   ]
  }
 ],
 "metadata": {
  "kernelspec": {
   "display_name": "Python 3",
   "language": "python",
   "name": "python3"
  },
  "language_info": {
   "codemirror_mode": {
    "name": "ipython",
    "version": 3
   },
   "file_extension": ".py",
   "mimetype": "text/x-python",
   "name": "python",
   "nbconvert_exporter": "python",
   "pygments_lexer": "ipython3",
   "version": "3.8.8"
  }
 },
 "nbformat": 4,
 "nbformat_minor": 5
}
