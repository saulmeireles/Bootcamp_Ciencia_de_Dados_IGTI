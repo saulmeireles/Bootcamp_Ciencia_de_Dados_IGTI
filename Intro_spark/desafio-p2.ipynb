{
 "cells": [
  {
   "cell_type": "markdown",
   "id": "68bbd5b2-cd33-41e0-8a87-1b875838416f",
   "metadata": {},
   "source": [
    "# IGTI - Cientista de Dados - Módulo 2\n",
    "## Desafio - Parte 2"
   ]
  },
  {
   "cell_type": "code",
   "execution_count": 1,
   "id": "49c233cb",
   "metadata": {},
   "outputs": [
    {
     "data": {
      "text/plain": [
       "'C:\\\\Spark\\\\spark-3.1.2-bin-hadoop2.7'"
      ]
     },
     "execution_count": 1,
     "metadata": {},
     "output_type": "execute_result"
    }
   ],
   "source": [
    "import findspark\n",
    "findspark.init()\n",
    "findspark.find()"
   ]
  },
  {
   "cell_type": "code",
   "execution_count": 2,
   "id": "b929713b",
   "metadata": {},
   "outputs": [],
   "source": [
    "import pyspark\n",
    "from pyspark import SparkContext\n",
    "sc = SparkContext()"
   ]
  },
  {
   "cell_type": "code",
   "execution_count": 3,
   "id": "941e16bb",
   "metadata": {},
   "outputs": [],
   "source": [
    "from pyspark.sql import SparkSession"
   ]
  },
  {
   "cell_type": "code",
   "execution_count": 4,
   "id": "3918dbdf-1f37-4b69-8d41-fc9038fdfc50",
   "metadata": {},
   "outputs": [],
   "source": [
    "from pyspark.sql import SparkSession\n",
    "from pyspark.ml.feature import VectorAssembler\n",
    "from pyspark.ml.classification import DecisionTreeClassifier\n",
    "from pyspark.ml import Pipeline\n",
    "from pyspark.ml.evaluation import MulticlassClassificationEvaluator"
   ]
  },
  {
   "cell_type": "code",
   "execution_count": 5,
   "id": "cf7a9702-8638-4f54-87ae-36e837777a77",
   "metadata": {},
   "outputs": [],
   "source": [
    "spark = SparkSession.builder.getOrCreate()"
   ]
  },
  {
   "cell_type": "code",
   "execution_count": 22,
   "id": "8bca8a10-2bac-4f8a-94d1-c214a593796e",
   "metadata": {},
   "outputs": [
    {
     "name": "stdout",
     "output_type": "stream",
     "text": [
      "+---+------+----+------------+-------------+------------+---------+--------------+-----------------+-----+--------------+------+\n",
      "|  0|gender| age|hypertension|heart_disease|ever_married|work_type|Residence_type|avg_glucose_level|  bmi|smoking_status|stroke|\n",
      "+---+------+----+------------+-------------+------------+---------+--------------+-----------------+-----+--------------+------+\n",
      "|  1|Female|18.0|           0|            0|          No|  Private|         Urban|            94.19|12.12|        smokes|     1|\n",
      "|  2|  Male|58.0|           1|            0|         Yes|  Private|         Rural|           154.24| 33.7|  never_smoked|     0|\n",
      "|  3|Female|36.0|           0|            0|         Yes| Govt_job|         Urban|            72.63| 24.7|        smokes|     0|\n",
      "+---+------+----+------------+-------------+------------+---------+--------------+-----------------+-----+--------------+------+\n",
      "only showing top 3 rows\n",
      "\n"
     ]
    }
   ],
   "source": [
    "# Importar dataset\n",
    "df = spark.read.csv('stroke_data.csv', inferSchema=True, header=True)\n",
    "df.show(3)\n",
    "#df.head()"
   ]
  },
  {
   "cell_type": "code",
   "execution_count": 10,
   "id": "fbb56d55-fbf0-4aa0-8954-52ec284ca9b6",
   "metadata": {},
   "outputs": [],
   "source": [
    "# transformer para criacao de uma nova coluna 'features' que corresponde a \n",
    "# um vetor das variaveis selecionadas\n",
    "assembler = VectorAssembler(inputCols=['age', 'hypertension', 'heart_disease', 'avg_glucose_level', 'bmi'], outputCol='features')"
   ]
  },
  {
   "cell_type": "code",
   "execution_count": 11,
   "id": "a331291b-682a-4b44-9e11-5814cba2baa2",
   "metadata": {},
   "outputs": [],
   "source": [
    "# cria um classifier informando qual a variavel alvo e \n",
    "# qual a variavel que corresponde ao vetor das outras variaveis selecionadas\n",
    "classifier = DecisionTreeClassifier(labelCol='stroke', featuresCol='features')"
   ]
  },
  {
   "cell_type": "code",
   "execution_count": 12,
   "id": "bb9a7372-06f7-4a58-bc02-0f4317aeee29",
   "metadata": {},
   "outputs": [],
   "source": [
    "# cria o pipeline\n",
    "pipeline = Pipeline(stages=[assembler, classifier])"
   ]
  },
  {
   "cell_type": "code",
   "execution_count": 13,
   "id": "72902a72-e119-4558-94c2-93e0e2ffd2f8",
   "metadata": {},
   "outputs": [],
   "source": [
    "# separa amostras para treinar o modelo e para realizar testes\n",
    "training_df, test_df = df.randomSplit([0.7, 0.3])"
   ]
  },
  {
   "cell_type": "code",
   "execution_count": 14,
   "id": "17d5382a-6e37-4b5d-8983-ea041e5fd7f2",
   "metadata": {},
   "outputs": [],
   "source": [
    "# treina o modelo a partir da amostra separada para treino\n",
    "model = pipeline.fit(training_df)"
   ]
  },
  {
   "cell_type": "code",
   "execution_count": 15,
   "id": "b7eba988-7948-43a3-8bd6-01a716823b15",
   "metadata": {},
   "outputs": [],
   "source": [
    "# exibe o algoritmo do modelo\n",
    "# print(model.stages[1].toDebugString)"
   ]
  },
  {
   "cell_type": "code",
   "execution_count": 16,
   "id": "fb1e5ec3-ce10-4ad1-a211-9908f29fa0d2",
   "metadata": {},
   "outputs": [],
   "source": [
    "# realiza predicoes para a amostra separada para testes utilizando o modelo criado\n",
    "predictions = model.transform(test_df)"
   ]
  },
  {
   "cell_type": "code",
   "execution_count": 17,
   "id": "efb70c53-707d-4bf2-8d26-9354702dfc66",
   "metadata": {},
   "outputs": [],
   "source": [
    "# cria um evaluator para avaliar o modelo utilizando a metrica 'accuracy'\n",
    "eval_acc = MulticlassClassificationEvaluator(labelCol='stroke', predictionCol='prediction', metricName='accuracy')"
   ]
  },
  {
   "cell_type": "code",
   "execution_count": 18,
   "id": "707baf93-9b88-4bb9-bf6c-754de46fe411",
   "metadata": {},
   "outputs": [
    {
     "data": {
      "text/plain": [
       "0.6946836946836947"
      ]
     },
     "execution_count": 18,
     "metadata": {},
     "output_type": "execute_result"
    }
   ],
   "source": [
    "# calcula a acuracia das predicoes realizadas\n",
    "accuracy = eval_acc.evaluate(predictions)\n",
    "accuracy"
   ]
  },
  {
   "cell_type": "code",
   "execution_count": 19,
   "id": "dd8eb2b5-efa9-4820-8945-29deeecb2ca5",
   "metadata": {},
   "outputs": [],
   "source": [
    "# cria um evaluator para avaliar o modelo utilizando a metrica 'weightedPrecision'\n",
    "eval_prec = MulticlassClassificationEvaluator(labelCol='stroke', predictionCol='prediction', metricName='weightedPrecision')"
   ]
  },
  {
   "cell_type": "code",
   "execution_count": 20,
   "id": "f658075c-3347-419c-bc35-91fd94a21143",
   "metadata": {},
   "outputs": [
    {
     "data": {
      "text/plain": [
       "0.6897154314191534"
      ]
     },
     "execution_count": 20,
     "metadata": {},
     "output_type": "execute_result"
    }
   ],
   "source": [
    "precision = eval_prec.evaluate(predictions)\n",
    "precision"
   ]
  },
  {
   "cell_type": "markdown",
   "id": "b0719d74-abe2-4479-a514-86f522ded085",
   "metadata": {},
   "source": [
    "### Perguntas"
   ]
  },
  {
   "cell_type": "code",
   "execution_count": 21,
   "id": "528bad1b-10ad-4584-81c3-479dd98a40f9",
   "metadata": {},
   "outputs": [
    {
     "name": "stdout",
     "output_type": "stream",
     "text": [
      "Acuracia: 69%\n"
     ]
    }
   ],
   "source": [
    "# 11) Crie um modelo de árvore de decisão que prevê a chance de derrame (stroke) a\n",
    "# partir das variáveis contínuas/categóricas: idade, BMI, hipertensão, doença do\n",
    "# coração, nível médio de glicose. Use o conteúdo da Segunda Aula Interativa para\n",
    "# criar e avaliar o modelo.\n",
    "# Qual a acurácia de um modelo construído?\n",
    "\n",
    "print(f'Acuracia: {round(accuracy * 100)}%')"
   ]
  },
  {
   "cell_type": "code",
   "execution_count": null,
   "id": "2feed308",
   "metadata": {},
   "outputs": [],
   "source": []
  }
 ],
 "metadata": {
  "kernelspec": {
   "display_name": "Python 3",
   "language": "python",
   "name": "python3"
  },
  "language_info": {
   "codemirror_mode": {
    "name": "ipython",
    "version": 3
   },
   "file_extension": ".py",
   "mimetype": "text/x-python",
   "name": "python",
   "nbconvert_exporter": "python",
   "pygments_lexer": "ipython3",
   "version": "3.8.8"
  }
 },
 "nbformat": 4,
 "nbformat_minor": 5
}
