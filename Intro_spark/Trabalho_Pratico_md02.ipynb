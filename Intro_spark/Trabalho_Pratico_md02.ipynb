{
 "cells": [
  {
   "cell_type": "code",
   "execution_count": 2,
   "id": "c9f1fbb8",
   "metadata": {},
   "outputs": [
    {
     "data": {
      "text/plain": [
       "'C:\\\\Spark\\\\spark-3.1.2-bin-hadoop2.7'"
      ]
     },
     "execution_count": 2,
     "metadata": {},
     "output_type": "execute_result"
    }
   ],
   "source": [
    "import findspark\n",
    "findspark.init()\n",
    "findspark.find()"
   ]
  },
  {
   "cell_type": "code",
   "execution_count": 3,
   "id": "c450e16c",
   "metadata": {},
   "outputs": [],
   "source": [
    "import pyspark\n",
    "from pyspark import SparkContext\n",
    "sc = SparkContext()"
   ]
  },
  {
   "cell_type": "code",
   "execution_count": 4,
   "id": "421a843e",
   "metadata": {},
   "outputs": [],
   "source": [
    "from pyspark.sql import SparkSession\n",
    "from pyspark.sql import SQLContext\n",
    "from pyspark.sql.types import StructType, DateType, StringType, IntegerType, DoubleType"
   ]
  },
  {
   "cell_type": "code",
   "execution_count": 5,
   "id": "e82207fe",
   "metadata": {},
   "outputs": [],
   "source": [
    "schema = StructType() \\\n",
    "    .add('date', DateType(), True) \\\n",
    "    .add('open', DoubleType(), True) \\\n",
    "    .add('high', DoubleType(), True) \\\n",
    "    .add('low', DoubleType(), True) \\\n",
    "    .add('close', DoubleType(), True) \\\n",
    "    .add('volume', IntegerType(), True) \\\n",
    "    .add('Name', StringType(), True)"
   ]
  },
  {
   "cell_type": "code",
   "execution_count": 6,
   "id": "38e69536",
   "metadata": {},
   "outputs": [
    {
     "name": "stdout",
     "output_type": "stream",
     "text": [
      "root\n",
      " |-- date: date (nullable = true)\n",
      " |-- open: double (nullable = true)\n",
      " |-- high: double (nullable = true)\n",
      " |-- low: double (nullable = true)\n",
      " |-- close: double (nullable = true)\n",
      " |-- volume: integer (nullable = true)\n",
      " |-- Name: string (nullable = true)\n",
      "\n",
      "+----------+-----+-----+-----+-----+--------+----+\n",
      "|      date| open| high|  low|close|  volume|Name|\n",
      "+----------+-----+-----+-----+-----+--------+----+\n",
      "|2013-02-08|15.07|15.12|14.63|14.75| 8407500| AAL|\n",
      "|2013-02-11|14.89|15.01|14.26|14.46| 8882000| AAL|\n",
      "|2013-02-12|14.45|14.51| 14.1|14.27| 8126000| AAL|\n",
      "|2013-02-13| 14.3|14.94|14.25|14.66|10259500| AAL|\n",
      "|2013-02-14|14.94|14.96|13.16|13.99|31879900| AAL|\n",
      "|2013-02-15|13.93|14.61|13.93| 14.5|15628000| AAL|\n",
      "|2013-02-19|14.33|14.56|14.08|14.26|11354400| AAL|\n",
      "|2013-02-20|14.17|14.26|13.15|13.33|14725200| AAL|\n",
      "|2013-02-21|13.62|13.95| 12.9|13.37|11922100| AAL|\n",
      "|2013-02-22|13.57| 13.6|13.21|13.57| 6071400| AAL|\n",
      "|2013-02-25| 13.6|13.76| 13.0|13.02| 7186400| AAL|\n",
      "|2013-02-26|13.14|13.42| 12.7|13.26| 9419000| AAL|\n",
      "|2013-02-27|13.28|13.62|13.18|13.41| 7390500| AAL|\n",
      "|2013-02-28|13.49|13.63|13.39|13.43| 6143600| AAL|\n",
      "|2013-03-01|13.37|13.95|13.32|13.61| 7376800| AAL|\n",
      "|2013-03-04| 13.5|14.07|13.47| 13.9| 8174800| AAL|\n",
      "|2013-03-05|14.01|14.05|13.71|14.05| 7676100| AAL|\n",
      "|2013-03-06|14.52|14.68|14.25|14.57|13243200| AAL|\n",
      "|2013-03-07| 14.7|14.93| 14.5|14.82| 9125300| AAL|\n",
      "|2013-03-08|14.99| 15.2|14.84|14.92|10593700| AAL|\n",
      "+----------+-----+-----+-----+-----+--------+----+\n",
      "only showing top 20 rows\n",
      "\n"
     ]
    }
   ],
   "source": [
    "spark = SparkSession\\\n",
    "        .builder\\\n",
    "        .appName(\"All_Stocks\")\\\n",
    "        .getOrCreate()\n",
    "\n",
    "\n",
    "\n",
    "all_df = spark.read.format('csv').option('header', True).schema(schema).load('all_stocks_5yr.csv')\n",
    "all_df.printSchema()\n",
    "all_df.show()"
   ]
  },
  {
   "cell_type": "code",
   "execution_count": 59,
   "id": "e53fafa7",
   "metadata": {},
   "outputs": [
    {
     "name": "stdout",
     "output_type": "stream",
     "text": [
      "+----------+-----+-----+-----+-----+--------+----+\n",
      "|      date| open| high|  low|close|  volume|Name|\n",
      "+----------+-----+-----+-----+-----+--------+----+\n",
      "|2013-02-08|15.07|15.12|14.63|14.75| 8407500| AAL|\n",
      "|2013-02-11|14.89|15.01|14.26|14.46| 8882000| AAL|\n",
      "|2013-02-12|14.45|14.51| 14.1|14.27| 8126000| AAL|\n",
      "|2013-02-13| 14.3|14.94|14.25|14.66|10259500| AAL|\n",
      "|2013-02-14|14.94|14.96|13.16|13.99|31879900| AAL|\n",
      "|2013-02-15|13.93|14.61|13.93| 14.5|15628000| AAL|\n",
      "|2013-02-19|14.33|14.56|14.08|14.26|11354400| AAL|\n",
      "|2013-02-20|14.17|14.26|13.15|13.33|14725200| AAL|\n",
      "|2013-02-21|13.62|13.95| 12.9|13.37|11922100| AAL|\n",
      "|2013-02-22|13.57| 13.6|13.21|13.57| 6071400| AAL|\n",
      "+----------+-----+-----+-----+-----+--------+----+\n",
      "only showing top 10 rows\n",
      "\n"
     ]
    }
   ],
   "source": [
    "all_df.show(10)"
   ]
  },
  {
   "cell_type": "markdown",
   "id": "c012a05c",
   "metadata": {},
   "source": [
    "## 1. Quantos registros há na planilha?"
   ]
  },
  {
   "cell_type": "code",
   "execution_count": 10,
   "id": "ca413cae",
   "metadata": {},
   "outputs": [
    {
     "data": {
      "text/plain": [
       "619041"
      ]
     },
     "execution_count": 10,
     "metadata": {},
     "output_type": "execute_result"
    }
   ],
   "source": [
    "# Usando a função count para contar os registros\n",
    "all_df.count()"
   ]
  },
  {
   "cell_type": "markdown",
   "id": "5bd844f0",
   "metadata": {},
   "source": [
    "## 2.Quantos registros há na planilha para a ação da Apple (AAPL)?"
   ]
  },
  {
   "cell_type": "code",
   "execution_count": 68,
   "id": "e0d6275f",
   "metadata": {},
   "outputs": [
    {
     "data": {
      "text/plain": [
       "1259"
      ]
     },
     "execution_count": 68,
     "metadata": {},
     "output_type": "execute_result"
    }
   ],
   "source": [
    "# Função filter para filtrar as ações\n",
    "all_df.filter(all_df.Name == 'AAPL').count()"
   ]
  },
  {
   "cell_type": "markdown",
   "id": "d57b42b6",
   "metadata": {},
   "source": [
    "## 3.Quantas empresas distintas têm registros nessa planilha?"
   ]
  },
  {
   "cell_type": "code",
   "execution_count": 19,
   "id": "3358e138",
   "metadata": {},
   "outputs": [
    {
     "data": {
      "text/plain": [
       "505"
      ]
     },
     "execution_count": 19,
     "metadata": {},
     "output_type": "execute_result"
    }
   ],
   "source": [
    "# Usando a função select e distinct\n",
    "all_df.select('Name').distinct().count()"
   ]
  },
  {
   "cell_type": "markdown",
   "id": "86900923",
   "metadata": {},
   "source": [
    "## 4.Com qual frequência o preço de uma ação no fechamento é maior do que o preço na abertura?"
   ]
  },
  {
   "cell_type": "code",
   "execution_count": 75,
   "id": "78c81327",
   "metadata": {},
   "outputs": [
    {
     "data": {
      "text/plain": [
       "0.5152655724993538"
      ]
     },
     "execution_count": 75,
     "metadata": {},
     "output_type": "execute_result"
    }
   ],
   "source": [
    "# Importando algumas funções\n",
    "from pyspark.sql.functions import mean, min, max\n",
    "\n",
    "# Usando o filter e count\n",
    "all_df.filter(all_df.close > all_df.open).count() / all_df.count()\n"
   ]
  },
  {
   "cell_type": "markdown",
   "id": "6ac7023e",
   "metadata": {},
   "source": [
    "## 5.Qual o maior valor das ações da Apple (AAPL) na história?"
   ]
  },
  {
   "cell_type": "code",
   "execution_count": 7,
   "id": "5b198c22",
   "metadata": {},
   "outputs": [
    {
     "data": {
      "text/plain": [
       "180.1"
      ]
     },
     "execution_count": 7,
     "metadata": {},
     "output_type": "execute_result"
    }
   ],
   "source": [
    "all_df.filter(all_df.Name == 'AAPL').agg({'high': 'max'}).first()['max(high)']"
   ]
  },
  {
   "cell_type": "markdown",
   "id": "db0468d9",
   "metadata": {},
   "source": [
    "## 6.Qual ação tem a maior volatilidade? Uma forma é medir o desvio-padrão do preço de fechamento de cada ação e considerar a ação de maior desvio-padrão."
   ]
  },
  {
   "cell_type": "code",
   "execution_count": 9,
   "id": "870b3480",
   "metadata": {},
   "outputs": [
    {
     "data": {
      "text/plain": [
       "Row(Name='PCLN', stddev(close)=320.533473018748)"
      ]
     },
     "execution_count": 9,
     "metadata": {},
     "output_type": "execute_result"
    }
   ],
   "source": [
    "# Agrupamento pelo nome e fechamento com o desvião padrão\n",
    "all_df_std = all_df.groupBy('Name').agg({'close': 'stddev'})\n",
    "all_df_std.sort(all_df_std['stddev(close)'].desc()).first()"
   ]
  },
  {
   "cell_type": "markdown",
   "id": "fc67ab9b",
   "metadata": {},
   "source": [
    "## 7. Qual o dia com maior volume de negociação da bolsa?"
   ]
  },
  {
   "cell_type": "code",
   "execution_count": 15,
   "id": "48fadebc",
   "metadata": {},
   "outputs": [
    {
     "data": {
      "text/plain": [
       "Row(date=datetime.date(2015, 8, 24), sum(volume)=4607945196)"
      ]
     },
     "execution_count": 15,
     "metadata": {},
     "output_type": "execute_result"
    }
   ],
   "source": [
    "# Primeiro objeto com a some dos volumes e o segundo buscando a soma de ordem decrescente\n",
    "all_df_max_volume = all_df.groupBy('date').sum('volume')\n",
    "\n",
    "all_df_max_volume.sort(all_df_max_volume['sum(volume)'].desc()).first()"
   ]
  },
  {
   "cell_type": "markdown",
   "id": "84a74d8c",
   "metadata": {},
   "source": [
    "## 8. Qual a ação mais negociada da bolsa, em volume de transações?"
   ]
  },
  {
   "cell_type": "code",
   "execution_count": 91,
   "id": "54fab037",
   "metadata": {},
   "outputs": [
    {
     "data": {
      "text/plain": [
       "Row(Name='BAC', sum(volume)=117884953591)"
      ]
     },
     "execution_count": 91,
     "metadata": {},
     "output_type": "execute_result"
    }
   ],
   "source": [
    "# Primeiro objeto com a soma dos volumes e segundo buscando a soma com o nome da ação\n",
    "all_df_max_volume = all_df.groupBy('Name').sum('volume')\n",
    "\n",
    "all_df_max_volume.sort(all_df_max_volume['sum(volume)'].desc()).first()"
   ]
  },
  {
   "cell_type": "markdown",
   "id": "8716a92f",
   "metadata": {},
   "source": [
    "## 9.Quantas ações começam com a letra “A”?"
   ]
  },
  {
   "cell_type": "code",
   "execution_count": 18,
   "id": "5a3b75f5",
   "metadata": {},
   "outputs": [
    {
     "data": {
      "text/plain": [
       "59"
      ]
     },
     "execution_count": 18,
     "metadata": {},
     "output_type": "execute_result"
    }
   ],
   "source": [
    "# Função select para selecionar a coluna de ações, distinct para retornar os nomes distintos, \n",
    "# filter para filtrar o nome das colunas, startswith para a letra e count para contar.\n",
    "\n",
    "all_df.select('Name').distinct().filter(all_df.Name.startswith('A')).count()"
   ]
  },
  {
   "cell_type": "markdown",
   "id": "b55e72c0",
   "metadata": {},
   "source": [
    "## 10.Com qual frequência o preço mais alto do dia da ação também é o preço de fechamento?"
   ]
  },
  {
   "cell_type": "code",
   "execution_count": 30,
   "id": "a5b0ee6e",
   "metadata": {},
   "outputs": [
    {
     "data": {
      "text/plain": [
       "1.1986301369863013"
      ]
     },
     "execution_count": 30,
     "metadata": {},
     "output_type": "execute_result"
    }
   ],
   "source": [
    "# Filter para filtrar as colunas com as condições de igualdade. Dividindo pelo número de registros e multiplicando por 100 \n",
    "# obter a porcentagem.\n",
    "all_df.filter(all_df.high == all_df.close).count() / all_df.count() * 100"
   ]
  },
  {
   "cell_type": "markdown",
   "id": "cf911069",
   "metadata": {},
   "source": [
    "## 11. Em qual dia a ação da Apple mais subiu até o fechamento, de forma absoluta?"
   ]
  },
  {
   "cell_type": "code",
   "execution_count": 36,
   "id": "31334813",
   "metadata": {},
   "outputs": [
    {
     "data": {
      "text/plain": [
       "Row(date=datetime.date(2015, 8, 24), open=94.87, high=108.8, low=92.0, close=103.12, volume=162206292, Name='AAPL', grow=8.25)"
      ]
     },
     "execution_count": 36,
     "metadata": {},
     "output_type": "execute_result"
    }
   ],
   "source": [
    "all_df_aapl = all_df.filter(all_df.Name == 'AAPL').withColumn('grow', all_df_aapl.close - all_df_aapl.open)\n",
    "\n",
    "all_df_aapl.sort(all_df_aapl.grow.desc()).first()\n"
   ]
  },
  {
   "cell_type": "markdown",
   "id": "d3e54bcb",
   "metadata": {},
   "source": [
    "## 12. Em média, qual o volume diário de transações das ações da AAPL?"
   ]
  },
  {
   "cell_type": "code",
   "execution_count": 46,
   "id": "b6fbea7d",
   "metadata": {},
   "outputs": [
    {
     "data": {
      "text/plain": [
       "54047899.73550437"
      ]
     },
     "execution_count": 46,
     "metadata": {},
     "output_type": "execute_result"
    }
   ],
   "source": [
    "# Filter para filtrar a ação, agregando pela média e tirando a média.\n",
    "all_df.filter(all_df.Name == 'AAPL').agg({'volume': 'mean'}).first()['avg(volume)']"
   ]
  },
  {
   "cell_type": "markdown",
   "id": "d2f35ba8",
   "metadata": {},
   "source": [
    "## 13. Quantas ações tem 1, 2, 3, 4 e 5 caracteres em seu nome, respectivamente?"
   ]
  },
  {
   "cell_type": "code",
   "execution_count": 47,
   "id": "b4a81471",
   "metadata": {},
   "outputs": [],
   "source": [
    "from pyspark.sql.functions import col, length, array_contains"
   ]
  },
  {
   "cell_type": "code",
   "execution_count": 53,
   "id": "47a90169",
   "metadata": {},
   "outputs": [],
   "source": [
    "dataset_name_length = all_df.select('Name').distinct().withColumn('name_length', length(col('Name'))).groupBy('name_length').agg({'Name': 'count'})\n",
    "dataset_five_lengths = dataset_name_length.sort(dataset_name_length.name_length.asc()).select('count(Name)').rdd.map(lambda row : row['count(Name)']).count()\n",
    "\n",
    "print(f'There are {\", \".join([str(value) for value in dataset_five_lengths])} stocks which name has 1, 2, 3, 4, 5 character length, respectivelly')"
   ]
  },
  {
   "cell_type": "markdown",
   "id": "064d810c",
   "metadata": {},
   "source": [
    "## 14. Qual a ação menos negociada da bolsa, em volume de transações?"
   ]
  },
  {
   "cell_type": "code",
   "execution_count": 56,
   "id": "95bfa3c8",
   "metadata": {},
   "outputs": [
    {
     "data": {
      "text/plain": [
       "Row(Name='APTV', sum(volume)=92947779)"
      ]
     },
     "execution_count": 56,
     "metadata": {},
     "output_type": "execute_result"
    }
   ],
   "source": [
    "all_df_min_volume = all_df.groupBy('Name').sum('volume')\n",
    "\n",
    "all_df_min_volume.sort(all_df_min_volume['sum(volume)'].asc()).first()"
   ]
  },
  {
   "cell_type": "markdown",
   "id": "091e7a5d",
   "metadata": {},
   "source": [
    "## 15. Com qual frequência o preço de fechamento é também o mais alto do dia?"
   ]
  },
  {
   "cell_type": "code",
   "execution_count": 57,
   "id": "1643f2f8",
   "metadata": {},
   "outputs": [
    {
     "data": {
      "text/plain": [
       "1.1986301369863013"
      ]
     },
     "execution_count": 57,
     "metadata": {},
     "output_type": "execute_result"
    }
   ],
   "source": [
    "all_df.filter(all_df.close == all_df.high).count() / all_df.count() * 100"
   ]
  },
  {
   "cell_type": "code",
   "execution_count": null,
   "id": "328a1069",
   "metadata": {},
   "outputs": [],
   "source": []
  }
 ],
 "metadata": {
  "kernelspec": {
   "display_name": "Python 3",
   "language": "python",
   "name": "python3"
  },
  "language_info": {
   "codemirror_mode": {
    "name": "ipython",
    "version": 3
   },
   "file_extension": ".py",
   "mimetype": "text/x-python",
   "name": "python",
   "nbconvert_exporter": "python",
   "pygments_lexer": "ipython3",
   "version": "3.8.8"
  }
 },
 "nbformat": 4,
 "nbformat_minor": 5
}
